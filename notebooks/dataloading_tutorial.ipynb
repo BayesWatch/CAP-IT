{
 "cells": [
  {
   "cell_type": "code",
   "execution_count": 1,
   "id": "07ee97bc-13cb-42c4-8881-d2b33cae1815",
   "metadata": {},
   "outputs": [
    {
     "name": "stderr",
     "output_type": "stream",
     "text": [
      "/opt/conda/envs/main/lib/python3.10/site-packages/tqdm/auto.py:22: TqdmWarning: IProgress not found. Please update jupyter and ipywidgets. See https://ipywidgets.readthedocs.io/en/stable/user_install.html\n",
      "  from .autonotebook import tqdm as notebook_tqdm\n"
     ]
    }
   ],
   "source": [
    "from rich import print\n",
    "import os\n",
    "import pathlib\n",
    "import random\n",
    "import sys\n",
    "from asyncio.log import logger\n",
    "from collections import defaultdict\n",
    "from dataclasses import dataclass\n",
    "from math import floor\n",
    "from typing import Any, Dict, List, Optional, Tuple, Union\n",
    "\n",
    "from torchtyping import TensorType\n",
    "\n",
    "import numpy as np\n",
    "import pandas as pd\n",
    "import pyarrow as pa\n",
    "import pyarrow.dataset as ds\n",
    "import pyarrow.parquet as pq\n",
    "import torch\n",
    "import torch.nn as nn\n",
    "import tqdm\n",
    "from hydra_zen import builds, instantiate\n",
    "from PIL import Image\n",
    "from torch.utils.data import DataLoader, Dataset\n",
    "from torchvision.transforms import Compose, RandomCrop, Resize, ToTensor\n",
    "from traitlets import Int\n",
    "from capit.core.data.config import ImageShape, ModalityConfig\n",
    "from capit.core.utils.storage import load_json, save_json\n",
    "\n",
    "from capit.decorators import configurable\n",
    "from capit.utils import get_logger\n",
    "from torch.utils.data.dataloader import default_collate\n",
    "\n",
    "logger = get_logger(__name__)\n",
    "\n",
    "os.environ[\"HYDRA_FULL_ERROR\"] = \"1\"\n",
    "\n"
   ]
  },
  {
   "cell_type": "code",
   "execution_count": 2,
   "id": "a74225fd-95e7-4716-8589-0f419a41ebdd",
   "metadata": {
    "tags": []
   },
   "outputs": [
    {
     "data": {
      "text/html": [
       "<pre style=\"white-space:pre;overflow-x:auto;line-height:normal;font-family:Menlo,'DejaVu Sans Mono',consolas,'Courier New',monospace\"><span style=\"color: #800000; text-decoration-color: #800000\">╭─────────────────────────────── </span><span style=\"color: #800000; text-decoration-color: #800000; font-weight: bold\">Traceback </span><span style=\"color: #bf7f7f; text-decoration-color: #bf7f7f; font-weight: bold\">(most recent call last)</span><span style=\"color: #800000; text-decoration-color: #800000\"> ────────────────────────────────╮</span>\n",
       "<span style=\"color: #800000; text-decoration-color: #800000\">│</span> <span style=\"color: #bfbf7f; text-decoration-color: #bfbf7f\">/tmp/ipykernel_32018/</span><span style=\"color: #808000; text-decoration-color: #808000; font-weight: bold\">3523108790.py</span>:<span style=\"color: #0000ff; text-decoration-color: #0000ff\">11</span> in <span style=\"color: #00ff00; text-decoration-color: #00ff00\">&lt;module&gt;</span>                                                <span style=\"color: #800000; text-decoration-color: #800000\">│</span>\n",
       "<span style=\"color: #800000; text-decoration-color: #800000\">│</span>                                                                                                  <span style=\"color: #800000; text-decoration-color: #800000\">│</span>\n",
       "<span style=\"color: #800000; text-decoration-color: #800000\">│</span> <span style=\"color: #800000; text-decoration-color: #800000; font-style: italic\">[Errno 2] No such file or directory: '/tmp/ipykernel_32018/3523108790.py'</span>                        <span style=\"color: #800000; text-decoration-color: #800000\">│</span>\n",
       "<span style=\"color: #800000; text-decoration-color: #800000\">╰──────────────────────────────────────────────────────────────────────────────────────────────────╯</span>\n",
       "<span style=\"color: #ff0000; text-decoration-color: #ff0000; font-weight: bold\">NameError: </span>name <span style=\"color: #008000; text-decoration-color: #008000\">'get_image_transforms_instait'</span> is not defined\n",
       "</pre>\n"
      ],
      "text/plain": [
       "\u001b[31m╭─\u001b[0m\u001b[31m──────────────────────────────\u001b[0m\u001b[31m \u001b[0m\u001b[1;31mTraceback \u001b[0m\u001b[1;2;31m(most recent call last)\u001b[0m\u001b[31m \u001b[0m\u001b[31m───────────────────────────────\u001b[0m\u001b[31m─╮\u001b[0m\n",
       "\u001b[31m│\u001b[0m \u001b[2;33m/tmp/ipykernel_32018/\u001b[0m\u001b[1;33m3523108790.py\u001b[0m:\u001b[94m11\u001b[0m in \u001b[92m<module>\u001b[0m                                                \u001b[31m│\u001b[0m\n",
       "\u001b[31m│\u001b[0m                                                                                                  \u001b[31m│\u001b[0m\n",
       "\u001b[31m│\u001b[0m \u001b[3;31m[Errno 2] No such file or directory: '/tmp/ipykernel_32018/3523108790.py'\u001b[0m                        \u001b[31m│\u001b[0m\n",
       "\u001b[31m╰──────────────────────────────────────────────────────────────────────────────────────────────────╯\u001b[0m\n",
       "\u001b[1;91mNameError: \u001b[0mname \u001b[32m'get_image_transforms_instait'\u001b[0m is not defined\n"
      ]
     },
     "metadata": {},
     "output_type": "display_data"
    }
   ],
   "source": [
    "from capit.core.data.datasets import InstagramImageTextMultiModalDatasePyArrow, ChallengeSamplesSourceTypes, InstagramImageTextMultiModalDatasePyArrow\n",
    "\n",
    "root_filepath = pathlib.Path(\"/data/\")\n",
    "dataset_config = InstagramImageTextMultiModalDatasePyArrow.build_config(\n",
    "    populate_full_signature=True\n",
    ")\n",
    "dataset_config_instance = dataset_config(dataset_dir=root_filepath)\n",
    "dataset = InstagramImageTextMultiModalDatasePyArrow(\n",
    "    dataset_dir=root_filepath,\n",
    "    top_k_percent=25,\n",
    "    image_transforms=get_image_transforms_instait(),\n",
    "    max_num_collection_images_per_episode=0,\n",
    "    max_num_query_images_per_episode=25,\n",
    "    challenge_image_source=ChallengeSamplesSourceTypes.WITHIN_USER,\n",
    "    num_episodes=1000,\n",
    ")\n"
   ]
  },
  {
   "cell_type": "code",
   "execution_count": null,
   "id": "8aa68700-99ed-4ef2-8f1b-efdcdd2fab02",
   "metadata": {},
   "outputs": [],
   "source": []
  },
  {
   "cell_type": "code",
   "execution_count": null,
   "id": "84e244bc-3d45-43c8-84f2-658bd7e1b390",
   "metadata": {},
   "outputs": [],
   "source": []
  }
 ],
 "metadata": {
  "kernelspec": {
   "display_name": "base",
   "language": "python",
   "name": "python3"
  },
  "language_info": {
   "codemirror_mode": {
    "name": "ipython",
    "version": 3
   },
   "file_extension": ".py",
   "mimetype": "text/x-python",
   "name": "python",
   "nbconvert_exporter": "python",
   "pygments_lexer": "ipython3",
   "version": "3.10.8"
  },
  "vscode": {
   "interpreter": {
    "hash": "8be86470e38501aa34785446b144512d347203ba2fe09ff4115a3f561b2ac78b"
   }
  }
 },
 "nbformat": 4,
 "nbformat_minor": 5
}

{
 "cells": [
  {
   "cell_type": "code",
   "execution_count": 28,
   "id": "07ee97bc-13cb-42c4-8881-d2b33cae1815",
   "metadata": {},
   "outputs": [],
   "source": [
    "from rich import print\n",
    "import os\n",
    "import pathlib\n",
    "import random\n",
    "import sys\n",
    "from asyncio.log import logger\n",
    "from collections import defaultdict\n",
    "from dataclasses import dataclass\n",
    "from math import floor\n",
    "from typing import Any, Dict, List, Optional, Tuple, Union\n",
    "\n",
    "from torchtyping import TensorType\n",
    "\n",
    "import numpy as np\n",
    "import pandas as pd\n",
    "import pyarrow as pa\n",
    "import pyarrow.dataset as ds\n",
    "import pyarrow.parquet as pq\n",
    "import torch\n",
    "import torch.nn as nn\n",
    "import tqdm\n",
    "from hydra_zen import builds, instantiate\n",
    "from PIL import Image\n",
    "from torch.utils.data import DataLoader, Dataset\n",
    "from torchvision.transforms import Compose, RandomCrop, Resize, ToTensor\n",
    "from traitlets import Int\n",
    "from capit.core.data.config import ImageShape, ModalityConfig\n",
    "from capit.core.utils.storage import load_json, save_json\n",
    "\n",
    "from capit.decorators import configurable\n",
    "from capit.utils import get_logger\n",
    "from torch.utils.data.dataloader import default_collate\n",
    "\n",
    "logger = get_logger(__name__)\n",
    "\n",
    "os.environ[\"HYDRA_FULL_ERROR\"] = \"1\"\n",
    "\n"
   ]
  },
  {
   "cell_type": "code",
   "execution_count": 29,
   "id": "a74225fd-95e7-4716-8589-0f419a41ebdd",
   "metadata": {
    "tags": []
   },
   "outputs": [],
   "source": [
    "from capit.core.data.datasets import get_image_transforms_instait, \\\n",
    "        InstagramImageTextMultiModalDatasePyArrow, ChallengeSamplesSourceTypes, \\\n",
    "        SplitType \n",
    "\n",
    "root_filepath = pathlib.Path(\"/data/\")\n",
    "dataset_config = InstagramImageTextMultiModalDatasePyArrow.build_config(\n",
    "    populate_full_signature=True\n",
    ")\n",
    "dataset_config_instance = dataset_config(dataset_dir=root_filepath)\n",
    "train_dataset = InstagramImageTextMultiModalDatasePyArrow(\n",
    "    dataset_dir=root_filepath,\n",
    "    top_k_percent=25,\n",
    "    image_transforms=get_image_transforms_instait(),\n",
    "    max_num_collection_images_per_episode=0,\n",
    "    max_num_query_images_per_episode=25,\n",
    "    challenge_image_source=ChallengeSamplesSourceTypes.WITHIN_USER,\n",
    "    num_episodes=1000,\n",
    "    set_name=SplitType.TRAIN,\n",
    ")\n",
    "\n",
    "val_dataset = InstagramImageTextMultiModalDatasePyArrow(\n",
    "    dataset_dir=root_filepath,\n",
    "    top_k_percent=25,\n",
    "    image_transforms=get_image_transforms_instait(),\n",
    "    max_num_collection_images_per_episode=0,\n",
    "    max_num_query_images_per_episode=25,\n",
    "    challenge_image_source=ChallengeSamplesSourceTypes.WITHIN_USER,\n",
    "    num_episodes=1000,\n",
    "    set_name=SplitType.VAL,\n",
    ")\n",
    "\n",
    "test_dataset = InstagramImageTextMultiModalDatasePyArrow(\n",
    "    dataset_dir=root_filepath,\n",
    "    top_k_percent=25,\n",
    "    image_transforms=get_image_transforms_instait(),\n",
    "    max_num_collection_images_per_episode=0,\n",
    "    max_num_query_images_per_episode=25,\n",
    "    challenge_image_source=ChallengeSamplesSourceTypes.WITHIN_USER,\n",
    "    num_episodes=1000,\n",
    "    set_name=SplitType.TEST,\n",
    ")"
   ]
  },
  {
   "cell_type": "code",
   "execution_count": 11,
   "id": "8aa68700-99ed-4ef2-8f1b-efdcdd2fab02",
   "metadata": {},
   "outputs": [
    {
     "name": "stderr",
     "output_type": "stream",
     "text": [
      "100%|██████████| 24510/24510 [00:01<00:00, 12440.84it/s]\n",
      "100%|██████████| 3063/3063 [00:01<00:00, 2780.20it/s]\n",
      "100%|██████████| 3065/3065 [00:01<00:00, 2749.93it/s]\n"
     ]
    }
   ],
   "source": [
    "import tqdm\n",
    "train_usernames = train_dataset.set_usernames\n",
    "val_usernames = val_dataset.set_usernames\n",
    "test_usernames = test_dataset.set_usernames\n",
    "with tqdm.tqdm(total=len(train_usernames)) as pbar:\n",
    "    for username in train_usernames:\n",
    "        assert username not in val_usernames\n",
    "        assert username not in test_usernames\n",
    "        pbar.update(1)\n",
    "\n",
    "with tqdm.tqdm(total=len(val_usernames)) as pbar:\n",
    "    for username in val_usernames:\n",
    "        assert username not in train_usernames\n",
    "        assert username not in test_usernames\n",
    "        pbar.update(1)\n",
    "\n",
    "with tqdm.tqdm(total=len(test_usernames)) as pbar:\n",
    "    for username in test_usernames:\n",
    "        assert username not in train_usernames\n",
    "        assert username not in val_usernames\n",
    "        pbar.update(1)\n"
   ]
  },
  {
   "cell_type": "code",
   "execution_count": 30,
   "id": "84e244bc-3d45-43c8-84f2-658bd7e1b390",
   "metadata": {},
   "outputs": [
    {
     "name": "stdout",
     "output_type": "stream",
     "text": [
      "[array(['/data/image/jennycole1988-1806111524206301316.jpg',\n",
      "       '/data/info/jennycole1988-1806111524206301316.info'], dtype=object), array(['/data/image/jennycole1988-1848868944296593740.jpg',\n",
      "       '/data/info/jennycole1988-1848868944296593740.info'], dtype=object), array(['/data/image/jennycole1988-1923535825975716469.jpg',\n",
      "       '/data/info/jennycole1988-1923535825975716469.info'], dtype=object), array(['/data/image/jennycole1988-1912644870087153571.jpg',\n",
      "       '/data/info/jennycole1988-1912644870087153571.info'], dtype=object), array(['/data/image/jennycole1988-1949621104142552981.jpg',\n",
      "       '/data/info/jennycole1988-1949621104142552981.info'], dtype=object), array(['/data/image/jennycole1988-1949632178145221613.jpg',\n",
      "       '/data/info/jennycole1988-1949632178145221613.info'], dtype=object), array(['/data/image/jennycole1988-1994567678459081231.jpg',\n",
      "       '/data/info/jennycole1988-1994567678459081231.info'], dtype=object), array(['/data/image/jennycole1988-1985153701744282460.jpg',\n",
      "       '/data/info/jennycole1988-1985153701744282460.info'], dtype=object), array(['/data/image/jennycole1988-1830039465969423863.jpg',\n",
      "       '/data/info/jennycole1988-1830039465969423863.info'], dtype=object), array(['/data/image/jennycole1988-1970649384282980784.jpg',\n",
      "       '/data/info/jennycole1988-1970649384282980784.info'], dtype=object), array(['/data/image/jennycole1988-1949615789397292357.jpg',\n",
      "       '/data/info/jennycole1988-1949615789397292357.info'], dtype=object), array(['/data/image/jennycole1988-2019915431619754412.jpg',\n",
      "       '/data/info/jennycole1988-2019915431619754412.info'], dtype=object), array(['/data/image/jennycole1988-1807573473343326034.jpg',\n",
      "       '/data/info/jennycole1988-1807573473343326034.info'], dtype=object), array(['/data/image/jennycole1988-1845965720812184058.jpg',\n",
      "       '/data/info/jennycole1988-1845965720812184058.info'], dtype=object), array(['/data/image/jennycole1988-1792348008391519696.jpg',\n",
      "       '/data/info/jennycole1988-1792348008391519696.info'], dtype=object), array(['/data/image/jennycole1988-1853215265736524595.jpg',\n",
      "       '/data/info/jennycole1988-1853215265736524595.info'], dtype=object), array(['/data/image/jennycole1988-1789454888691703912.jpg',\n",
      "       '/data/info/jennycole1988-1789454888691703912.info'], dtype=object), array(['/data/image/jennycole1988-1840169780725545205.jpg',\n",
      "       '/data/info/jennycole1988-1840169780725545205.info'], dtype=object), array(['/data/image/jennycole1988-1871340074877367827.jpg',\n",
      "       '/data/info/jennycole1988-1871340074877367827.info'], dtype=object), array(['/data/image/jennycole1988-1841633108815658254.jpg',\n",
      "       '/data/info/jennycole1988-1841633108815658254.info'], dtype=object), array(['/data/image/jennycole1988-1977928775077551337.jpg',\n",
      "       '/data/info/jennycole1988-1977928775077551337.info'], dtype=object), array(['/data/image/jennycole1988-1777106526130725763.jpg',\n",
      "       '/data/info/jennycole1988-1777106526130725763.info'], dtype=object), array(['/data/image/jennycole1988-1866236666130585157.jpg',\n",
      "       '/data/info/jennycole1988-1866236666130585157.info'], dtype=object), array(['/data/image/jennycole1988-1814815190471865918.jpg',\n",
      "       '/data/info/jennycole1988-1814815190471865918.info'], dtype=object), array(['/data/image/jennycole1988-1843077361018136999.jpg',\n",
      "       '/data/info/jennycole1988-1843077361018136999.info'], dtype=object), array(['/data/image/jennycole1988-1890890819755134695.jpg',\n",
      "       '/data/info/jennycole1988-1890890819755134695.info'], dtype=object), array(['/data/image/jennycole1988-1824957685595833904.jpg',\n",
      "       '/data/info/jennycole1988-1824957685595833904.info'], dtype=object), array(['/data/image/jennycole1988-1790881193878387917.jpg',\n",
      "       '/data/info/jennycole1988-1790881193878387917.info'], dtype=object), array(['/data/image/jennycole1988-1821297521940330792.jpg',\n",
      "       '/data/info/jennycole1988-1821297521940330792.info'], dtype=object), array(['/data/image/jennycole1988-1985876014513090175.jpg',\n",
      "       '/data/info/jennycole1988-1985876014513090175.info'], dtype=object), array(['/data/image/jennycole1988-1990236300552447506.jpg',\n",
      "       '/data/info/jennycole1988-1990236300552447506.info'], dtype=object), array(['/data/image/jennycole1988-1867682213249470555.jpg',\n",
      "       '/data/info/jennycole1988-1867682213249470555.info'], dtype=object), array(['/data/image/jennycole1988-1985161551166246546.jpg',\n",
      "       '/data/info/jennycole1988-1985161551166246546.info'], dtype=object), array(['/data/image/jennycole1988-1914137773288703094.jpg',\n",
      "       '/data/info/jennycole1988-1914137773288703094.info'], dtype=object), array(['/data/image/jennycole1988-2009809398259960030.jpg',\n",
      "       '/data/info/jennycole1988-2009809398259960030.info'], dtype=object), array(['/data/image/jennycole1988-1985879431184902053.jpg',\n",
      "       '/data/info/jennycole1988-1985879431184902053.info'], dtype=object), array(['/data/image/jennycole1988-1935121764371988512.jpg',\n",
      "       '/data/info/jennycole1988-1935121764371988512.info'], dtype=object), array(['/data/image/jennycole1988-1960504491552261370.jpg',\n",
      "       '/data/info/jennycole1988-1960504491552261370.info'], dtype=object), array(['/data/image/jennycole1988-1919900246578953730.jpg',\n",
      "       '/data/info/jennycole1988-1919900246578953730.info'], dtype=object), array(['/data/image/jennycole1988-1985853317087455532.jpg',\n",
      "       '/data/info/jennycole1988-1985853317087455532.info'], dtype=object), array(['/data/image/jennycole1988-1840142052030782076.jpg',\n",
      "       '/data/info/jennycole1988-1840142052030782076.info'], dtype=object), array(['/data/image/jennycole1988-1982250596849630882.jpg',\n",
      "       '/data/info/jennycole1988-1982250596849630882.info'], dtype=object), array(['/data/image/jennycole1988-1867715048484191039.jpg',\n",
      "       '/data/info/jennycole1988-1867715048484191039.info'], dtype=object), array(['/data/image/jennycole1988-1909767667678916673.jpg',\n",
      "       '/data/info/jennycole1988-1909767667678916673.info'], dtype=object), array(['/data/image/jennycole1988-1792337640801876639.jpg',\n",
      "       '/data/info/jennycole1988-1792337640801876639.info'], dtype=object), array(['/data/image/jennycole1988-1982271573083970480.jpg',\n",
      "       '/data/info/jennycole1988-1982271573083970480.info'], dtype=object)]\n",
      "[array(['/data/image/jennycole1988-1830039465969423863.jpg',\n",
      "       '/data/info/jennycole1988-1830039465969423863.info'], dtype=object), array(['/data/image/jennycole1988-1841633108815658254.jpg',\n",
      "       '/data/info/jennycole1988-1841633108815658254.info'], dtype=object), array(['/data/image/jennycole1988-1806111524206301316.jpg',\n",
      "       '/data/info/jennycole1988-1806111524206301316.info'], dtype=object), array(['/data/image/jennycole1988-1970649384282980784.jpg',\n",
      "       '/data/info/jennycole1988-1970649384282980784.info'], dtype=object), array(['/data/image/jennycole1988-2009809398259960030.jpg',\n",
      "       '/data/info/jennycole1988-2009809398259960030.info'], dtype=object), array(['/data/image/jennycole1988-1814815190471865918.jpg',\n",
      "       '/data/info/jennycole1988-1814815190471865918.info'], dtype=object), array(['/data/image/jennycole1988-1848868944296593740.jpg',\n",
      "       '/data/info/jennycole1988-1848868944296593740.info'], dtype=object), array(['/data/image/jennycole1988-1914137773288703094.jpg',\n",
      "       '/data/info/jennycole1988-1914137773288703094.info'], dtype=object), array(['/data/image/jennycole1988-1949621104142552981.jpg',\n",
      "       '/data/info/jennycole1988-1949621104142552981.info'], dtype=object), array(['/data/image/jennycole1988-1843077361018136999.jpg',\n",
      "       '/data/info/jennycole1988-1843077361018136999.info'], dtype=object), array(['/data/image/jennycole1988-1866236666130585157.jpg',\n",
      "       '/data/info/jennycole1988-1866236666130585157.info'], dtype=object), array(['/data/image/jennycole1988-1777106526130725763.jpg',\n",
      "       '/data/info/jennycole1988-1777106526130725763.info'], dtype=object), array(['/data/image/jennycole1988-1790881193878387917.jpg',\n",
      "       '/data/info/jennycole1988-1790881193878387917.info'], dtype=object), array(['/data/image/jennycole1988-1935121764371988512.jpg',\n",
      "       '/data/info/jennycole1988-1935121764371988512.info'], dtype=object), array(['/data/image/jennycole1988-1840169780725545205.jpg',\n",
      "       '/data/info/jennycole1988-1840169780725545205.info'], dtype=object), array(['/data/image/jennycole1988-1982250596849630882.jpg',\n",
      "       '/data/info/jennycole1988-1982250596849630882.info'], dtype=object), array(['/data/image/jennycole1988-1845965720812184058.jpg',\n",
      "       '/data/info/jennycole1988-1845965720812184058.info'], dtype=object), array(['/data/image/jennycole1988-1982271573083970480.jpg',\n",
      "       '/data/info/jennycole1988-1982271573083970480.info'], dtype=object), array(['/data/image/jennycole1988-1853215265736524595.jpg',\n",
      "       '/data/info/jennycole1988-1853215265736524595.info'], dtype=object), array(['/data/image/jennycole1988-1977928775077551337.jpg',\n",
      "       '/data/info/jennycole1988-1977928775077551337.info'], dtype=object), array(['/data/image/jennycole1988-2019915431619754412.jpg',\n",
      "       '/data/info/jennycole1988-2019915431619754412.info'], dtype=object), array(['/data/image/jennycole1988-1985876014513090175.jpg',\n",
      "       '/data/info/jennycole1988-1985876014513090175.info'], dtype=object), array(['/data/image/jennycole1988-1985153701744282460.jpg',\n",
      "       '/data/info/jennycole1988-1985153701744282460.info'], dtype=object), array(['/data/image/jennycole1988-1985161551166246546.jpg',\n",
      "       '/data/info/jennycole1988-1985161551166246546.info'], dtype=object), array(['/data/image/jennycole1988-1985879431184902053.jpg',\n",
      "       '/data/info/jennycole1988-1985879431184902053.info'], dtype=object), array(['/data/image/jennycole1988-1985853317087455532.jpg',\n",
      "       '/data/info/jennycole1988-1985853317087455532.info'], dtype=object), array(['/data/image/jennycole1988-1792348008391519696.jpg',\n",
      "       '/data/info/jennycole1988-1792348008391519696.info'], dtype=object), array(['/data/image/jennycole1988-1912644870087153571.jpg',\n",
      "       '/data/info/jennycole1988-1912644870087153571.info'], dtype=object), array(['/data/image/jennycole1988-1821297521940330792.jpg',\n",
      "       '/data/info/jennycole1988-1821297521940330792.info'], dtype=object), array(['/data/image/jennycole1988-1867715048484191039.jpg',\n",
      "       '/data/info/jennycole1988-1867715048484191039.info'], dtype=object), array(['/data/image/jennycole1988-1792337640801876639.jpg',\n",
      "       '/data/info/jennycole1988-1792337640801876639.info'], dtype=object), array(['/data/image/jennycole1988-1871340074877367827.jpg',\n",
      "       '/data/info/jennycole1988-1871340074877367827.info'], dtype=object), array(['/data/image/jennycole1988-1960504491552261370.jpg',\n",
      "       '/data/info/jennycole1988-1960504491552261370.info'], dtype=object), array(['/data/image/jennycole1988-1890890819755134695.jpg',\n",
      "       '/data/info/jennycole1988-1890890819755134695.info'], dtype=object), array(['/data/image/jennycole1988-1909767667678916673.jpg',\n",
      "       '/data/info/jennycole1988-1909767667678916673.info'], dtype=object), array(['/data/image/jennycole1988-1923535825975716469.jpg',\n",
      "       '/data/info/jennycole1988-1923535825975716469.info'], dtype=object), array(['/data/image/jennycole1988-1949632178145221613.jpg',\n",
      "       '/data/info/jennycole1988-1949632178145221613.info'], dtype=object), array(['/data/image/jennycole1988-1824957685595833904.jpg',\n",
      "       '/data/info/jennycole1988-1824957685595833904.info'], dtype=object), array(['/data/image/jennycole1988-1840142052030782076.jpg',\n",
      "       '/data/info/jennycole1988-1840142052030782076.info'], dtype=object), array(['/data/image/jennycole1988-1789454888691703912.jpg',\n",
      "       '/data/info/jennycole1988-1789454888691703912.info'], dtype=object), array(['/data/image/jennycole1988-1949615789397292357.jpg',\n",
      "       '/data/info/jennycole1988-1949615789397292357.info'], dtype=object), array(['/data/image/jennycole1988-1807573473343326034.jpg',\n",
      "       '/data/info/jennycole1988-1807573473343326034.info'], dtype=object), array(['/data/image/jennycole1988-1867682213249470555.jpg',\n",
      "       '/data/info/jennycole1988-1867682213249470555.info'], dtype=object), array(['/data/image/jennycole1988-1994567678459081231.jpg',\n",
      "       '/data/info/jennycole1988-1994567678459081231.info'], dtype=object), array(['/data/image/jennycole1988-1919900246578953730.jpg',\n",
      "       '/data/info/jennycole1988-1919900246578953730.info'], dtype=object), array(['/data/image/jennycole1988-1990236300552447506.jpg',\n",
      "       '/data/info/jennycole1988-1990236300552447506.info'], dtype=object)]\n"
     ]
    }
   ],
   "source": [
    "for item in train_dataset:\n",
    "    break"
   ]
  },
  {
   "cell_type": "code",
   "execution_count": 27,
   "id": "ac6e9327",
   "metadata": {},
   "outputs": [
    {
     "name": "stdout",
     "output_type": "stream",
     "text": [
      "The autoreload extension is already loaded. To reload it, use:\n",
      "  %reload_ext autoreload\n"
     ]
    },
    {
     "data": {
      "text/html": [
       "<pre style=\"white-space:pre;overflow-x:auto;line-height:normal;font-family:Menlo,'DejaVu Sans Mono',consolas,'Courier New',monospace\"><span style=\"font-weight: bold\">&lt;</span><span style=\"color: #ff00ff; text-decoration-color: #ff00ff; font-weight: bold\">module</span><span style=\"color: #000000; text-decoration-color: #000000\"> </span><span style=\"color: #008000; text-decoration-color: #008000\">'capit'</span><span style=\"color: #000000; text-decoration-color: #000000\"> </span><span style=\"color: #000000; text-decoration-color: #000000; font-weight: bold\">(</span><span style=\"color: #000000; text-decoration-color: #000000\">&lt;_frozen_importlib_external._NamespaceLoader object at </span><span style=\"color: #008080; text-decoration-color: #008080; font-weight: bold\">0x7fa3a8087760</span><span style=\"font-weight: bold\">&gt;)</span>&gt;\n",
       "</pre>\n"
      ],
      "text/plain": [
       "\u001b[1m<\u001b[0m\u001b[1;95mmodule\u001b[0m\u001b[39m \u001b[0m\u001b[32m'capit'\u001b[0m\u001b[39m \u001b[0m\u001b[1;39m(\u001b[0m\u001b[39m<_frozen_importlib_external._NamespaceLoader object at \u001b[0m\u001b[1;36m0x7fa3a8087760\u001b[0m\u001b[1m>\u001b[0m\u001b[1m)\u001b[0m>\n"
      ]
     },
     "metadata": {},
     "output_type": "display_data"
    }
   ],
   "source": [
    "%load_ext autoreload\n",
    "%autoreload 2\n",
    "import capit\n",
    "print(capit)"
   ]
  }
 ],
 "metadata": {
  "kernelspec": {
   "display_name": "base",
   "language": "python",
   "name": "python3"
  },
  "language_info": {
   "codemirror_mode": {
    "name": "ipython",
    "version": 3
   },
   "file_extension": ".py",
   "mimetype": "text/x-python",
   "name": "python",
   "nbconvert_exporter": "python",
   "pygments_lexer": "ipython3",
   "version": "3.10.8"
  },
  "vscode": {
   "interpreter": {
    "hash": "8be86470e38501aa34785446b144512d347203ba2fe09ff4115a3f561b2ac78b"
   }
  }
 },
 "nbformat": 4,
 "nbformat_minor": 5
}
